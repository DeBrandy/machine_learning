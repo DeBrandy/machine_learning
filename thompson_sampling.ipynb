{
  "nbformat": 4,
  "nbformat_minor": 0,
  "metadata": {
    "colab": {
      "provenance": [],
      "authorship_tag": "ABX9TyPUzjs6zaIEhS3AtgzLnVBr",
      "include_colab_link": true
    },
    "kernelspec": {
      "name": "python3",
      "display_name": "Python 3"
    },
    "language_info": {
      "name": "python"
    }
  },
  "cells": [
    {
      "cell_type": "markdown",
      "metadata": {
        "id": "view-in-github",
        "colab_type": "text"
      },
      "source": [
        "<a href=\"https://colab.research.google.com/github/DeBrandy/machine_learning/blob/main/thompson_sampling.ipynb\" target=\"_parent\"><img src=\"https://colab.research.google.com/assets/colab-badge.svg\" alt=\"Open In Colab\"/></a>"
      ]
    },
    {
      "cell_type": "code",
      "execution_count": 4,
      "metadata": {
        "id": "rwZFqgXU0_-T"
      },
      "outputs": [],
      "source": [
        "import pandas as pd\n",
        "import numpy as np\n",
        "import matplotlib.pyplot as plt"
      ]
    },
    {
      "cell_type": "code",
      "source": [
        "stationary = True\n",
        "class Bandit():\n",
        "  \"\"\"\n",
        "  多臂老虎机\n",
        "  初始化每个臂的分布（均匀分布）：被选择的概率\n",
        "  获取regret（loss）\n",
        "  \"\"\"\n",
        "  def __init__(self, arm_count):\n",
        "    self.arm_count = arm_count\n",
        "    self.generate_thetas()\n",
        "    self.timestep = 0\n",
        "    global stationary\n",
        "    self.stationary = stationary\n",
        "  def generate_thetas(self):\n",
        "    self.thetas = np.random.uniform(0,1,self.arm_count)  #label:实际上每个臂被选择的概率/每个臂被选择的奖励\n",
        "  def get_reward_regret(self,arm): #这里是每次只拉一个臂，也可以一次拉多个臂\n",
        "    self.timestep += 1\n",
        "    #模拟伯努利采样\n",
        "    sim = np.random.uniform(0,1,self.arm_count) #训练中，每轮每个臂被选择的概率/奖励（对应情况：用户是否点击）\n",
        "    rewards = (sim<self.thetas).astype(int)  #模拟的奖励<实际奖励，记为1（我们估计的奖励太低了，要提高），大于记为0。虽然有的臂没被选中，但一起算了奖励，后面没要它们\n",
        "    #在实际的展点中，通过get_action估计每个item的ctr，选择最高的展示，用户点击就给alpha+1，没点给beta+1\n",
        "    reward = rewards[arm]  #可读多个臂，只读被选中的臂\n",
        "    regret = self.thetas.max() - self.thetas[arm]  #实际上的最大奖励-选择当前臂的奖励=loss\n",
        "    return reward, regret"
      ],
      "metadata": {
        "id": "jHETGUSM15X_"
      },
      "execution_count": 19,
      "outputs": []
    },
    {
      "cell_type": "code",
      "source": [
        "class BetaAlgo:\n",
        "  \"\"\"\n",
        "  假设每个臂的概率分布为beta分布\n",
        "  （假设真实分布为Bernoulli分布，如Bandit中generate_thetas）\n",
        "  \"\"\"\n",
        "  def __init__(self, bandit):\n",
        "    self.bandit = bandit\n",
        "    self.arm_count = bandit.arm_count\n",
        "    self.alpha = np.ones(self.arm_count)\n",
        "    self.beta = np.ones(self.arm_count)\n",
        "\n",
        "  def get_reward_regret(self, arm):\n",
        "    reward, regret = self.bandit.get_reward_regret(arm)\n",
        "    self._updata_params(arm, reward)\n",
        "    return reward, regret\n",
        "\n",
        "  def _updata_params(self, arm, reward):\n",
        "    self.alpha[arm] += reward\n",
        "    self.beta[arm] += 1-reward\n",
        "\n",
        "class Thompson(BetaAlgo):\n",
        "  def __init_(self, bandit):\n",
        "    super().__init__(bandit)\n",
        "\n",
        "  @staticmethod\n",
        "  def name():\n",
        "    return 'thompson'\n",
        "\n",
        "  def get_action(self):\n",
        "    theta = np.random.beta(self.alpha, self.beta)\n",
        "    return theta.argmax()"
      ],
      "metadata": {
        "id": "kqdbThPh3muf"
      },
      "execution_count": 7,
      "outputs": []
    },
    {
      "cell_type": "code",
      "source": [
        "def plot_data(y):\n",
        "  x = np.arange(y.size())\n",
        "  _ = plt.plot(x,y,'o')\n",
        "def multi_plot_data(data, names):\n",
        "  x = np.arange(data[0].size)\n",
        "  for i,y in enumerate(data):\n",
        "    plt.plot(x, y, 'o', markersize=2, label=names[i])\n",
        "  plt.legend(loc='upper right', prop={'size': 16}, numpoints=10)\n",
        "  plt.show()"
      ],
      "metadata": {
        "id": "u931jhAy8k62"
      },
      "execution_count": 6,
      "outputs": []
    },
    {
      "cell_type": "code",
      "source": [
        "def simulate(simulations, timesteps, arm_count, Algorithm): #模拟训练过程\n",
        "  sum_regrets = np.zeros(timesteps) #各个step在simulations（epoch）轮后，regret总和\n",
        "  for epoch in range(simulations):\n",
        "    bandit = Bandit(arm_count) #每一个epoch都重新初始化老虎机的每个臂\n",
        "    algo = Algorithm(bandit)\n",
        "    regrets = np.zeros(timesteps) #timesteps(训练的step)，本epoch的regret\n",
        "    for i in range(timesteps):\n",
        "      action = algo.get_action()  #根据beta分布生成的选择概率，返回最大的臂\n",
        "      reward, regret = algo.get_reward_regret(action)\n",
        "      regrets[i] = regret  #当前step的loss\n",
        "    sum_regrets += regrets\n",
        "  mean_regrets = sum_regrets / simulations\n",
        "  return mean_regrets\n"
      ],
      "metadata": {
        "id": "gz68fUz99ISP"
      },
      "execution_count": 13,
      "outputs": []
    },
    {
      "cell_type": "code",
      "source": [
        "def experiment(arm_count,timesteps=1000,simulations=1000):\n",
        "  algos = [Thompson]\n",
        "  regrets = []\n",
        "  names = []\n",
        "  for algo in algos:\n",
        "    regrets.append(simulate(simulations, timesteps, arm_count, algo))\n",
        "    names.append(algo.name())\n",
        "  multi_plot_data(regrets, names)"
      ],
      "metadata": {
        "id": "9w0SdbQeC-r-"
      },
      "execution_count": 21,
      "outputs": []
    },
    {
      "cell_type": "code",
      "source": [
        "arm_count = 10\n",
        "stationary=True\n",
        "experiment(arm_count)"
      ],
      "metadata": {
        "colab": {
          "base_uri": "https://localhost:8080/",
          "height": 430
        },
        "id": "DkyKHtmyFk8_",
        "outputId": "a4c8019f-e378-47ed-cf34-c2b93161eea8"
      },
      "execution_count": 22,
      "outputs": [
        {
          "output_type": "display_data",
          "data": {
            "text/plain": [
              "<Figure size 640x480 with 1 Axes>"
            ],
            "image/png": "[encoded data removed]"
          },
          "metadata": {}
        }
      ]
    },
    {
      "cell_type": "code",
      "source": [],
      "metadata": {
        "id": "ze6cx6DTFm8E"
      },
      "execution_count": null,
      "outputs": []
    }
  ]
}