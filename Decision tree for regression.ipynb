{
 "cells": [
  {
   "cell_type": "code",
   "execution_count": 1,
   "metadata": {},
   "outputs": [],
   "source": [
    "import numpy as np\n",
    "import matplotlib.pyplot as plt\n",
    "from sklearn.model_selection import train_test_split\n",
    "np.random.seed(123)\n",
    "%matplotlib inline"
   ]
  },
  {
   "cell_type": "markdown",
   "metadata": {},
   "source": [
    "# Dataset"
   ]
  },
  {
   "cell_type": "code",
   "execution_count": 2,
   "metadata": {},
   "outputs": [
    {
     "data": {
      "text/plain": [
       "Text(0, 0.5, 'Target values')"
      ]
     },
     "execution_count": 2,
     "metadata": {},
     "output_type": "execute_result"
    },
    {
     "data": {
      "image/png": "[encoded data removed]",
      "text/plain": [
       "<Figure size 720x576 with 1 Axes>"
      ]
     },
     "metadata": {
      "needs_background": "light"
     },
     "output_type": "display_data"
    }
   ],
   "source": [
    "X = np.linspace(-3, 3, 400)\n",
    "y = X ** 2 + np.random.randn(400)\n",
    "\n",
    "plt.figure(figsize=(10,8))\n",
    "plt.scatter(X, y)\n",
    "plt.title(\"Simple quadratic dataset with noise\")\n",
    "plt.xlabel(\"Feature values\")\n",
    "plt.ylabel(\"Target values\")"
   ]
  },
  {
   "cell_type": "code",
   "execution_count": 3,
   "metadata": {},
   "outputs": [
    {
     "name": "stdout",
     "output_type": "stream",
     "text": [
      "Shape X_train: (300, 1)\n",
      "Shape y_train: (300,)\n",
      "Shape X_test: (100, 1)\n",
      "Shape y_test: (100,)\n"
     ]
    }
   ],
   "source": [
    "X = X[:, np.newaxis]\n",
    "\n",
    "X_train, X_test, y_train, y_test = train_test_split(X, y)\n",
    "\n",
    "print(f'Shape X_train: {X_train.shape}')\n",
    "print(f'Shape y_train: {y_train.shape}')\n",
    "print(f'Shape X_test: {X_test.shape}')\n",
    "print(f'Shape y_test: {y_test.shape}')"
   ]
  },
  {
   "cell_type": "code",
   "execution_count": 4,
   "metadata": {},
   "outputs": [],
   "source": [
    "class DecisionTree:\n",
    "    def __init__(self):\n",
    "        self.root_dict = None\n",
    "        self.tree_dict = None\n",
    "    def split_dataset(self,X,y,feature_idx,threshold):\n",
    "        left_idx = np.where(X[:,feature_idx]<threshold)\n",
    "        right_idx = np.where(X[:,feature_idx]>threshold)\n",
    "        \n",
    "        left_subset = X[left_idx]\n",
    "        y_left = y[left_idx]\n",
    "        \n",
    "        right_subset = X[right_idx]\n",
    "        y_right = y[right_idx]\n",
    "        \n",
    "        splits = {\n",
    "            'left': left_subset,\n",
    "            'y_left':y_left,\n",
    "            'right':right_subset,\n",
    "            'y_right':y_right,\n",
    "        }\n",
    "        return splits\n",
    "        \n",
    "    def mean_squared_error(self,y_left,y_right,n_left,n_right):\n",
    "        mse_left, mse_right = 0, 0\n",
    "\n",
    "        if len(y_left) != 0:\n",
    "            y_hat_left = (1 / n_left) * np.sum(y_left)\n",
    "            mse_left = (1 / n_left) * np.sum((y_left - y_hat_left) ** 2)\n",
    "\n",
    "        if len(y_right) != 0:\n",
    "            y_hat_right = (1 / n_right) * np.sum(y_right)\n",
    "            mse_right = (1 / n_right) * np.sum((y_right - y_hat_right) ** 2)\n",
    "\n",
    "        return mse_left, mse_right\n",
    "    \n",
    "    def get_cost(self,splits):\n",
    "        y_left = splits['y_left']\n",
    "        y_right = splits['y_right']\n",
    "\n",
    "        n_left = len(y_left)\n",
    "        n_right = len(y_right)\n",
    "        n_total = n_left + n_right\n",
    "\n",
    "        mse_left, mse_right = self.mean_squared_error(y_left, y_right, n_left, n_right)\n",
    "        cost = (n_left / n_total) * mse_left + (n_right / n_total) * mse_right\n",
    "\n",
    "        return cost\n",
    "    \n",
    "    def find_best_split(self,X,y):\n",
    "        n_samples, n_features = X.shape\n",
    "        best_feature_idx, best_threshold, best_cost, best_splits = np.inf, np.inf, np.inf, None\n",
    "\n",
    "        for feature_idx in range(n_features):\n",
    "            for i in range(n_samples):\n",
    "                current_sample = X[i]\n",
    "                threshold = current_sample[feature_idx]\n",
    "                splits = self.split_dataset(X, y, feature_idx, threshold)\n",
    "                cost = self.get_cost(splits)\n",
    "\n",
    "                if cost < best_cost:\n",
    "                    best_feature_idx = feature_idx\n",
    "                    best_threshold = threshold\n",
    "                    best_cost = cost\n",
    "                    best_splits = splits\n",
    "\n",
    "        best_split_params = {\n",
    "            'feature_idx': best_feature_idx,\n",
    "            'threshold': best_threshold,\n",
    "            'cost': best_cost,\n",
    "            'left': best_splits['left'],\n",
    "            'y_left': best_splits['y_left'],\n",
    "            'right': best_splits['right'],\n",
    "            'y_right': best_splits['y_right'],\n",
    "        }\n",
    "\n",
    "        return best_split_params\n",
    "    \n",
    "    def build_tree(self,node_dict,depth,max_depth,min_samples):\n",
    "        left_samples = node_dict['left']\n",
    "        right_samples = node_dict['right']\n",
    "        y_left_samples = node_dict['y_left']\n",
    "        y_right_samples = node_dict['y_right']\n",
    "        \n",
    "        if len(y_left_samples) == 0 or len(y_right_samples) == 0:\n",
    "            node_dict[\"left_child\"] = node_dict[\"right_child\"] = self.create_terminal_node(np.append(y_left_samples, y_right_samples))\n",
    "            return None\n",
    "        \n",
    "        if depth >= max_depth:\n",
    "            node_dict[\"left_child\"] = self.create_terminal_node(y_left_samples)\n",
    "            node_dict[\"right_child\"] = self.create_terminal_node(y_right_samples)\n",
    "            return None\n",
    "        if len(right_samples) < min_samples:\n",
    "            node_dict[\"right_child\"] = self.create_terminal_node(y_right_samples)\n",
    "        else:\n",
    "            node_dict[\"right_child\"] = self.find_best_split(right_samples, y_right_samples)\n",
    "            self.build_tree(node_dict[\"right_child\"], depth+1, max_depth, min_samples)\n",
    "\n",
    "        if len(left_samples) < min_samples:\n",
    "            node_dict[\"left_child\"] = self.create_terminal_node(y_left_samples)\n",
    "        else:\n",
    "            node_dict[\"left_child\"] = self.find_best_split(left_samples, y_left_samples)\n",
    "            self.build_tree(node_dict[\"left_child\"], depth+1, max_depth, min_samples)\n",
    "        \n",
    "        return node_dict\n",
    "    \n",
    "    def create_terminal_node(self,y):\n",
    "        return np.mean(y)\n",
    "    def train(self,X,y,max_depth,min_samples):\n",
    "        self.n_classes = len(set(y))\n",
    "        self.root_dict = self.find_best_split(X, y)\n",
    "        self.tree_dict = self.build_tree(self.root_dict, 1, max_depth, min_samples)\n",
    "        \n",
    "    def predict(self,X,node):\n",
    "        feature_idx = node['feature_idx']\n",
    "        threshold = node['threshold']\n",
    "\n",
    "        if X[feature_idx] < threshold:\n",
    "            if isinstance(node['left_child'], (float)):  #叶子节点\n",
    "                return node['left_child']\n",
    "            else:\n",
    "                prediction = self.predict(X, node['left_child'])\n",
    "        elif X[feature_idx] >= threshold:\n",
    "            if isinstance(node['right_child'], (float)):\n",
    "                return node['right_child']\n",
    "            else:\n",
    "                prediction = self.predict(X, node['right_child'])\n",
    "\n",
    "        return prediction"
   ]
  },
  {
   "cell_type": "code",
   "execution_count": 5,
   "metadata": {},
   "outputs": [],
   "source": [
    "tree = DecisionTree()\n",
    "tree.train(X_train,y_train,max_depth=2,min_samples=2)"
   ]
  },
  {
   "cell_type": "code",
   "execution_count": 6,
   "metadata": {},
   "outputs": [
    {
     "name": "stdout",
     "output_type": "stream",
     "text": [
      " feature 0 < -2.068, cost of split: 5.835\n",
      "   feature 0 < -2.654, cost of split: 1.125\n",
      "    predicted class: 8.148\n",
      "    predicted class: 5.708\n",
      "   feature 0 < 1.932, cost of split: 2.44\n",
      "    predicted class: 1.298\n",
      "    predicted class: 6.105\n"
     ]
    }
   ],
   "source": [
    "def print_tree(node, depth=0):\n",
    "    if isinstance(node, (float)):\n",
    "        print(f\"{depth * '  '}predicted class: {round(node, 3)}\")\n",
    "    else:\n",
    "        print(f\"{depth * '  '} feature {node['feature_idx']} < {round(node['threshold'], 3)}, \"\n",
    "             f\"cost of split: {round(node['cost'], 3)}\")\n",
    "        print_tree(node[\"left_child\"], depth+1)\n",
    "        print_tree(node[\"right_child\"], depth+1)\n",
    "print_tree(tree.tree_dict)"
   ]
  },
  {
   "cell_type": "code",
   "execution_count": null,
   "metadata": {},
   "outputs": [],
   "source": []
  }
 ],
 "metadata": {
  "kernelspec": {
   "display_name": "Python 3",
   "language": "python",
   "name": "python3"
  },
  "language_info": {
   "codemirror_mode": {
    "name": "ipython",
    "version": 3
   },
   "file_extension": ".py",
   "mimetype": "text/x-python",
   "name": "python",
   "nbconvert_exporter": "python",
   "pygments_lexer": "ipython3",
   "version": "3.7.3"
  }
 },
 "nbformat": 4,
 "nbformat_minor": 2
}
