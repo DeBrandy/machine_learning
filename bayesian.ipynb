{
 "cells": [
  {
   "cell_type": "code",
   "execution_count": 4,
   "metadata": {},
   "outputs": [],
   "source": [
    "import numpy as np\n",
    "from sklearn import datasets\n",
    "from sklearn.model_selection import train_test_split\n",
    "from sklearn.preprocessing import normalize\n",
    "from sklearn.metrics import accuracy_score"
   ]
  },
  {
   "cell_type": "code",
   "execution_count": 16,
   "metadata": {},
   "outputs": [],
   "source": [
    "class NaiveBayes():\n",
    "    def fit(self,X,y):\n",
    "        self.x = X\n",
    "        self.y = y\n",
    "        self.classes = np.unique(y)\n",
    "        self.parameters = {}\n",
    "        for i,c in enumerate(self.classes):\n",
    "            #计算每个种类的平均值，方差，先验概率\n",
    "            X_index_c = X[np.where(y==c)]   \n",
    "            X_index_c_mean = np.mean(X_index_c,axis=0,keepdims=True)\n",
    "            X_index_c_var = np.var(X_index_c,axis=0,keepdims=True)\n",
    "            parameters = {\"mean\":X_index_c_mean,\"var\":X_index_c_var,\"prior\":X_index_c.shape[0]/X.shape[0]}\n",
    "            self.parameters['class'+str(c)] = parameters\n",
    "    def _pdf(self,X,classes):\n",
    "        #一维高斯分布的概率密度函数\n",
    "        #贝叶斯估计\n",
    "        eps = 1e-4\n",
    "        mean = self.parameters[\"class\"+str(classes)][\"mean\"]\n",
    "        var = self.parameters[\"class\"+str((classes))][\"var\"]\n",
    "        \n",
    "        #取对数防止数值溢出\n",
    "        #enumerate.shape = [m_sample,feature]\n",
    "        numerator = np.exp(-(X-mean)**2/(2*var+eps))\n",
    "        denominator = np.sqrt(2*np.pi*var+eps)\n",
    "        \n",
    "        #朴素贝叶斯假设（每个特征之间相互独立）\n",
    "        #P(x1,x2,x3|Y) = P(x1,|Y)*P(x2,|Y)*P(x3,|Y)\n",
    "        #result.shape = [m_sample,1]\n",
    "        result = np.sum(np.log(numerator/denominator),axis=1,keepdims=True)\n",
    "        return result.T\n",
    "    def _predict(self,X):\n",
    "        #计算每个分类的概率P(x1,x2,x3) = P(Y)*P(x1|Y)*P(x2|Y)*P(x3|Y)\n",
    "        output = []\n",
    "        for y in range(self.classes.shape[0]):\n",
    "            prior = np.log(self.parameters[\"class\"+str(y)][\"prior\"])\n",
    "            posterior = self._pdf(X,y)\n",
    "            prediction = prior + posterior\n",
    "            output.append(prediction)\n",
    "        return output\n",
    "    def predict(self,X):\n",
    "        #取概率最大的类别返回预测值\n",
    "        output = self._predict(X)\n",
    "        output = np.reshape(output,(self.classes.shape[0],X.shape[0]))\n",
    "        prediction = np.argmax(output,axis=0)\n",
    "        return prediction"
   ]
  },
  {
   "cell_type": "code",
   "execution_count": 17,
   "metadata": {},
   "outputs": [
    {
     "name": "stdout",
     "output_type": "stream",
     "text": [
      "X_train (1078, 64)\n",
      "Accuracy: 0.8984700973574409\n"
     ]
    },
    {
     "name": "stderr",
     "output_type": "stream",
     "text": [
      "C:\\Users\\wangy\\Anaconda3\\lib\\site-packages\\ipykernel_launcher.py:29: RuntimeWarning: divide by zero encountered in log\n"
     ]
    }
   ],
   "source": [
    "def main():\n",
    "    data = datasets.load_digits()\n",
    "    X = normalize(data.data)\n",
    "    y = data.target\n",
    "    \n",
    "    X_train,X_test,y_train,y_test = train_test_split(X,y,test_size=0.4)\n",
    "    print(\"X_train\",X_train.shape)\n",
    "    clf = NaiveBayes()\n",
    "    clf.fit(X_train,y_train)\n",
    "    y_pred = clf.predict(X_test)\n",
    "    accuracy = accuracy_score(y_test,y_pred)\n",
    "    print(\"Accuracy:\",accuracy)\n",
    "    \n",
    "    # Reduce dimension to two using PCA and plot the results\n",
    "    #Plot().plot_in_2d(X_test,y_pred,title=\"Naive Bayes\",accuracy=accuracy,legend_labels = data.target_names)\n",
    "    \n",
    "if __name__ == \"__main__\":\n",
    "    main()"
   ]
  },
  {
   "cell_type": "code",
   "execution_count": null,
   "metadata": {},
   "outputs": [],
   "source": []
  }
 ],
 "metadata": {
  "kernelspec": {
   "display_name": "Python 3",
   "language": "python",
   "name": "python3"
  },
  "language_info": {
   "codemirror_mode": {
    "name": "ipython",
    "version": 3
   },
   "file_extension": ".py",
   "mimetype": "text/x-python",
   "name": "python",
   "nbconvert_exporter": "python",
   "pygments_lexer": "ipython3",
   "version": "3.7.3"
  }
 },
 "nbformat": 4,
 "nbformat_minor": 2
}
